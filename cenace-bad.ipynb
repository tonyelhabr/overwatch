{
 "cells": [
  {
   "cell_type": "code",
   "execution_count": 1,
   "metadata": {},
   "outputs": [],
   "source": [
    "import  requests\n",
    "from bs4 import BeautifulSoup"
   ]
  },
  {
   "cell_type": "code",
   "execution_count": 5,
   "metadata": {},
   "outputs": [],
   "source": [
    "url = \"http://www.cenace.gob.mx/SIM/VISTA/REPORTES/H_RepCantAsignadas.aspx?N=59&opc=divCssCantAsig&site=Cantidades%20asignadas/MDA/De%20Energ%C3%ADa%20El%C3%A9ctrica%20por%20Zona%20de%20Carga&tipoArch=C&tipoUni=SIN&tipo=De%20Energ%C3%ADa%20El%C3%A9ctrica%20por%20Zona%20de%20Carga&nombrenodop=MDA\""
   ]
  },
  {
   "cell_type": "code",
   "execution_count": 6,
   "metadata": {},
   "outputs": [],
   "source": [
    "postdata = {\n",
    "    'ctl00$ContentPlaceHolder1$toolkit':'ctl00$ContentPlaceHolder1$UpdatePanel1|ctl00$ContentPlaceHolder1$treePrincipal',\n",
    "    # So does this next one:\n",
    "    'ctl00_ContentPlaceHolder1_treePrincipal_ClientState': '{\"expandedNodes\":[],\"collapsedNodes\":[],\"logEntries\":[],\"selectedNodes\":[],\"checkedNodes\":[\"0\",\"0:0\"],\"scrollPosition\":0}',\n",
    "    'ctl00$ContentPlaceHolder1$HiddenOpcMenu': '',\n",
    "    'ctl00_ContentPlaceHolder1_ListViewNodos_ClientState': '',\n",
    "    'ctl00_ContentPlaceHolder1_NotifAvisos_ClientState': '',\n",
    "    'ctl00$ContentPlaceHolder1$NotifAvisos$hiddenState': '',\n",
    "    'ctl00_ContentPlaceHolder1_NotifAvisos_XmlPanel_ClientState': '',\n",
    "    'ctl00_ContentPlaceHolder1_NotifAvisos_TitleMenu_ClientState': '',\n",
    "    '__EVENTTARGET': 'ctl00$ContentPlaceHolder1$treePrincipal',\n",
    "    '__EVENTARGUMENT': '{\"commandName\":\"Check\",\"index\":\"0:0\"}', # TODO: this changes!!\n",
    "    '__VIEWSTATEGENERATOR': '658B03D3',\n",
    "    '__ASYNCPOST': 'true'\n",
    "}"
   ]
  },
  {
   "cell_type": "code",
   "execution_count": 7,
   "metadata": {},
   "outputs": [],
   "source": [
    "r = requests.get(url)"
   ]
  },
  {
   "cell_type": "code",
   "execution_count": 16,
   "metadata": {},
   "outputs": [
    {
     "data": {
      "text/plain": [
       "<Response [200]>"
      ]
     },
     "execution_count": 16,
     "metadata": {},
     "output_type": "execute_result"
    }
   ],
   "source": [
    "r"
   ]
  },
  {
   "cell_type": "code",
   "execution_count": 8,
   "metadata": {},
   "outputs": [],
   "source": [
    "soup = BeautifulSoup(r.text, 'html5lib')"
   ]
  },
  {
   "cell_type": "code",
   "execution_count": 9,
   "metadata": {},
   "outputs": [],
   "source": [
    "inputs = soup.find_all('input')"
   ]
  },
  {
   "cell_type": "code",
   "execution_count": 11,
   "metadata": {},
   "outputs": [],
   "source": [
    "goodinputs  = []\n",
    "for input in inputs:\n",
    "    if input['name'] == '__VIEWSTATE' or input['name'] == '__EVENTVALIDATION':\n",
    "        goodinputs.append(input['value'])"
   ]
  },
  {
   "cell_type": "code",
   "execution_count": 12,
   "metadata": {},
   "outputs": [],
   "source": [
    "postdata['__VIEWSTATE'] = goodinputs[0]\n",
    "postdata['__EVENTVALIDATION'] = goodinputs[1]"
   ]
  },
  {
   "cell_type": "code",
   "execution_count": 13,
   "metadata": {},
   "outputs": [],
   "source": [
    "headers= {\n",
    "    'Content-Type': 'application/x-www-form-urlencoded; charset=UTF-8',\n",
    "    'User-Agent': 'Mozilla/5.0 (Windows NT 10.0; Win64; x64) AppleWebKit/537.36 (KHTML, like Gecko) Chrome/66.0.3344.0 Safari/537.36',\n",
    "    'X-Requested-With': 'XMLHttpRequest',\n",
    "    'Accept-Encoding': 'gzip, deflate'\n",
    "    \n",
    "}"
   ]
  },
  {
   "cell_type": "code",
   "execution_count": 14,
   "metadata": {},
   "outputs": [],
   "source": [
    "# Result \n",
    "r2 = requests.post(url, data=postdata, headers=headers)\n",
    "# The valuable HTML goes from line 2 up until you find the |hiddenField|__VIEWSTATE| but you have to store \n",
    "# this value and the __EVENTVALIDATION to get a new request"
   ]
  },
  {
   "cell_type": "code",
   "execution_count": 15,
   "metadata": {},
   "outputs": [
    {
     "data": {
      "text/plain": [
       "<Response [200]>"
      ]
     },
     "execution_count": 15,
     "metadata": {},
     "output_type": "execute_result"
    }
   ],
   "source": [
    "r2"
   ]
  },
  {
   "cell_type": "code",
   "execution_count": 17,
   "metadata": {},
   "outputs": [],
   "source": [
    "# Separate HTML from new server garbage\n",
    "\n",
    "# Split into lines\n",
    "lines = r2.text.split('\\r\\n')\n",
    "# Trim and Ignore the first line\n",
    "lines = [x.strip() for x in lines[1:]]\n",
    "# Remove empty lines\n",
    "lines = list(filter(lambda x: len(x) != 0, lines))"
   ]
  },
  {
   "cell_type": "code",
   "execution_count": 18,
   "metadata": {},
   "outputs": [
    {
     "name": "stdout",
     "output_type": "stream",
     "text": [
      "-1\n"
     ]
    }
   ],
   "source": [
    "# Search for the garbage now\n",
    "import re\n",
    "garbageLineIndex = -1\n",
    "searchRegex = re.compile('\\|[0-9]+\\|hiddenField|__VIEWSTATE')\n",
    "for index,line in enumerate(lines):\n",
    "    if searchRegex.match(line):\n",
    "        garbageLineIndex = index\n",
    "        break\n",
    "print(garbageLineIndex)"
   ]
  },
  {
   "cell_type": "code",
   "execution_count": 19,
   "metadata": {},
   "outputs": [],
   "source": [
    "# Store the HTML in a single soup (this is where we'll find the links to the CSVs)# Store \n",
    "# Note: it's a strong assumption that everyting above this line is useful HTML. \n",
    "# You might want to wrap this in a try catch statement\n",
    "htmlLines = '\\n'.join(lines[0:garbageLineIndex]) # end index is non-inclusive\n",
    "soup = BeautifulSoup(htmlLines, 'html5lib')"
   ]
  },
  {
   "cell_type": "code",
   "execution_count": 24,
   "metadata": {},
   "outputs": [
    {
     "data": {
      "text/plain": [
       "<html><head></head><body></body></html>"
      ]
     },
     "execution_count": 24,
     "metadata": {},
     "output_type": "execute_result"
    }
   ],
   "source": [
    "soup\n",
    "# garbageLineIndex\n",
    "# lines"
   ]
  },
  {
   "cell_type": "code",
   "execution_count": 20,
   "metadata": {},
   "outputs": [
    {
     "ename": "IndexError",
     "evalue": "list index out of range",
     "output_type": "error",
     "traceback": [
      "\u001b[1;31m---------------------------------------------------------------------------\u001b[0m",
      "\u001b[1;31mIndexError\u001b[0m                                Traceback (most recent call last)",
      "\u001b[1;32m<ipython-input-20-1c4612c3bd04>\u001b[0m in \u001b[0;36m<module>\u001b[1;34m()\u001b[0m\n\u001b[0;32m     10\u001b[0m     \u001b[1;32mreturn\u001b[0m \u001b[0marrs\u001b[0m\u001b[1;33m\u001b[0m\u001b[0m\n\u001b[0;32m     11\u001b[0m \u001b[1;33m\u001b[0m\u001b[0m\n\u001b[1;32m---> 12\u001b[1;33m \u001b[0mgarbageLine\u001b[0m \u001b[1;33m=\u001b[0m \u001b[0mlines\u001b[0m\u001b[1;33m[\u001b[0m\u001b[0mgarbageLineIndex\u001b[0m\u001b[1;33m]\u001b[0m\u001b[1;33m\u001b[0m\u001b[0m\n\u001b[0m\u001b[0;32m     13\u001b[0m \u001b[0mtmpresult\u001b[0m \u001b[1;33m=\u001b[0m \u001b[0mgarbageLine\u001b[0m\u001b[1;33m.\u001b[0m\u001b[0msplit\u001b[0m\u001b[1;33m(\u001b[0m\u001b[1;34m\"|\"\u001b[0m\u001b[1;33m)\u001b[0m\u001b[1;33m\u001b[0m\u001b[0m\n\u001b[0;32m     14\u001b[0m \u001b[0mnewvars\u001b[0m \u001b[1;33m=\u001b[0m \u001b[0msplitlist\u001b[0m\u001b[1;33m(\u001b[0m\u001b[0mtmpresult\u001b[0m\u001b[1;33m[\u001b[0m\u001b[1;36m1\u001b[0m\u001b[1;33m:\u001b[0m\u001b[1;33m]\u001b[0m\u001b[1;33m,\u001b[0m \u001b[1;36m4\u001b[0m\u001b[1;33m)\u001b[0m \u001b[1;31m# The first element of the split is blank because the string starts with the separator\u001b[0m\u001b[1;33m\u001b[0m\u001b[0m\n",
      "\u001b[1;31mIndexError\u001b[0m: list index out of range"
     ]
    }
   ],
   "source": [
    "## Get the new vars\n",
    "# Taken from https://stackoverflow.com/questions/752308/split-list-into-smaller-lists\n",
    "def splitlist(arr, size):\n",
    "    arrs = []\n",
    "    while len(arr) > size:\n",
    "        pice = arr[:size]\n",
    "        arrs.append(pice)\n",
    "        arr   = arr[size:]\n",
    "    arrs.append(arr)\n",
    "    return arrs\n",
    "\n",
    "garbageLine = lines[garbageLineIndex]\n",
    "tmpresult = garbageLine.split(\"|\")\n",
    "newvars = splitlist(tmpresult[1:], 4) # The first element of the split is blank because the string starts with the separator"
   ]
  },
  {
   "cell_type": "code",
   "execution_count": 23,
   "metadata": {},
   "outputs": [
    {
     "ename": "NameError",
     "evalue": "name 'newvars' is not defined",
     "output_type": "error",
     "traceback": [
      "\u001b[1;31m---------------------------------------------------------------------------\u001b[0m",
      "\u001b[1;31mNameError\u001b[0m                                 Traceback (most recent call last)",
      "\u001b[1;32m<ipython-input-23-e51a952133ee>\u001b[0m in \u001b[0;36m<module>\u001b[1;34m()\u001b[0m\n\u001b[1;32m----> 1\u001b[1;33m \u001b[1;32mfor\u001b[0m \u001b[0mvar\u001b[0m \u001b[1;32min\u001b[0m \u001b[0mnewvars\u001b[0m\u001b[1;33m:\u001b[0m\u001b[1;33m\u001b[0m\u001b[0m\n\u001b[0m\u001b[0;32m      2\u001b[0m     \u001b[1;32mif\u001b[0m \u001b[0mlen\u001b[0m\u001b[1;33m(\u001b[0m\u001b[0mvar\u001b[0m\u001b[1;33m)\u001b[0m \u001b[1;33m>\u001b[0m \u001b[1;36m3\u001b[0m \u001b[1;32mand\u001b[0m \u001b[1;33m(\u001b[0m\u001b[0mvar\u001b[0m\u001b[1;33m[\u001b[0m\u001b[1;36m2\u001b[0m\u001b[1;33m]\u001b[0m \u001b[1;33m==\u001b[0m \u001b[1;34m\"__VIEWSTATE\"\u001b[0m \u001b[1;32mor\u001b[0m \u001b[0mvar\u001b[0m\u001b[1;33m[\u001b[0m\u001b[1;36m2\u001b[0m\u001b[1;33m]\u001b[0m \u001b[1;33m==\u001b[0m \u001b[1;34m\"__EVENTVALIDATION\"\u001b[0m\u001b[1;33m)\u001b[0m\u001b[1;33m:\u001b[0m\u001b[1;33m\u001b[0m\u001b[0m\n\u001b[0;32m      3\u001b[0m         \u001b[0mprint\u001b[0m\u001b[1;33m(\u001b[0m\u001b[0mvar\u001b[0m\u001b[1;33m)\u001b[0m\u001b[1;33m\u001b[0m\u001b[0m\n",
      "\u001b[1;31mNameError\u001b[0m: name 'newvars' is not defined"
     ]
    }
   ],
   "source": [
    "for var in newvars:\n",
    "    if len(var) > 3 and (var[2] == \"__VIEWSTATE\" or var[2] == \"__EVENTVALIDATION\"):\n",
    "        print(var)"
   ]
  },
  {
   "cell_type": "code",
   "execution_count": null,
   "metadata": {},
   "outputs": [],
   "source": []
  }
 ],
 "metadata": {
  "kernelspec": {
   "display_name": "Python 3",
   "language": "python",
   "name": "python3"
  },
  "language_info": {
   "codemirror_mode": {
    "name": "ipython",
    "version": 3
   },
   "file_extension": ".py",
   "mimetype": "text/x-python",
   "name": "python",
   "nbconvert_exporter": "python",
   "pygments_lexer": "ipython3",
   "version": "3.6.5"
  }
 },
 "nbformat": 4,
 "nbformat_minor": 2
}
