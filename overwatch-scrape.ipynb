{
 "cells": [
  {
   "cell_type": "code",
   "execution_count": 1,
   "metadata": {},
   "outputs": [],
   "source": [
    "import os\n",
    "import time\n",
    "from selenium import webdriver\n",
    "from selenium.common.exceptions import NoSuchElementException"
   ]
  },
  {
   "cell_type": "code",
   "execution_count": 2,
   "metadata": {},
   "outputs": [],
   "source": [
    "path_driver = 'C:/Windows/chromedriver.exe'\n",
    "url = 'https://overwatchleague.com/en-us/stats'\n",
    "dirname = os.path.dirname(os.getcwd())\n",
    "# dirname"
   ]
  },
  {
   "cell_type": "code",
   "execution_count": 3,
   "metadata": {},
   "outputs": [
    {
     "data": {
      "text/plain": [
       "'C:/Users/aelhabr/Documents/projects/overwatch/data-raw/overwatchleague-stats.csv'"
      ]
     },
     "execution_count": 3,
     "metadata": {},
     "output_type": "execute_result"
    }
   ],
   "source": [
    "# path_save = os.path.relpath('overwatchleague-stats.csv')\n",
    "# path_save = 'C:/Users/aelhabr/Documents/projects/overwatch/data-raw/overwatchleague-stats.csv'\n",
    "path_save"
   ]
  },
  {
   "cell_type": "code",
   "execution_count": 4,
   "metadata": {},
   "outputs": [],
   "source": [
    "opts = webdriver.chrome.options.Options()\n",
    "opts.set_headless()\n",
    "# assert opts.headless\n",
    "driver = webdriver.Chrome(path_driver, options=opts)"
   ]
  },
  {
   "cell_type": "code",
   "execution_count": 5,
   "metadata": {},
   "outputs": [],
   "source": [
    "driver.get(url)\n",
    "time.sleep(1)"
   ]
  },
  {
   "cell_type": "code",
   "execution_count": 6,
   "metadata": {},
   "outputs": [],
   "source": [
    "num_pg = 1\n",
    "file_data = []"
   ]
  },
  {
   "cell_type": "code",
   "execution_count": 7,
   "metadata": {},
   "outputs": [
    {
     "name": "stdout",
     "output_type": "stream",
     "text": [
      "done\n"
     ]
    }
   ],
   "source": [
    "# References: \n",
    "# + https://codereview.stackexchange.com/questions/87901/copy-table-using-selenium-and-python\n",
    "# + https://stackoverflow.com/questions/24166689/selenium-python-access-next-pages-of-search-results\n",
    "\n",
    "while True:\n",
    "    try:\n",
    "        link = driver.find_element_by_link_text(str(num_pg))\n",
    "    except NoSuchElementException:\n",
    "        with open(path_save, 'w') as f:\n",
    "            f.write('\\n'.join(file_data))\n",
    "        print('done')\n",
    "        break\n",
    "        \n",
    "    link.click()\n",
    "    # print(driver.current_url)\n",
    "    table = driver.find_element_by_class_name('Table')\n",
    "    head = table.find_element_by_tag_name('thead')\n",
    "    body = table.find_element_by_tag_name('tbody')\n",
    "    \n",
    "    if num_pg == 1:\n",
    "        file_header = []\n",
    "        head_line = head.find_element_by_tag_name('tr')\n",
    "        headers = head_line.find_elements_by_tag_name('th')\n",
    "\n",
    "        for header in headers:\n",
    "            file_header.append(header.text)\n",
    "        file_data.append(\",\".join(file_header))\n",
    "    \n",
    "    body_rows = body.find_elements_by_tag_name('tr')\n",
    "    for row in body_rows:\n",
    "        data = row.find_elements_by_tag_name('td')\n",
    "        file_row = []\n",
    "        \n",
    "        # This is a hack to get the tooltip for the role.\n",
    "        role = data[0].get_attribute('title')\n",
    "        for datum in data:\n",
    "            if datum.text == '':\n",
    "                datum_text = role\n",
    "            else:\n",
    "                datum_text = datum.text\n",
    "            file_row.append(datum_text.lower().replace(',', ''))\n",
    "        file_data.append(','.join(file_row))\n",
    "    \n",
    "    num_pg += 1"
   ]
  },
  {
   "cell_type": "code",
   "execution_count": null,
   "metadata": {},
   "outputs": [],
   "source": []
  },
  {
   "cell_type": "code",
   "execution_count": null,
   "metadata": {},
   "outputs": [],
   "source": []
  }
 ],
 "metadata": {
  "kernelspec": {
   "display_name": "Python 3",
   "language": "python",
   "name": "python3"
  },
  "language_info": {
   "codemirror_mode": {
    "name": "ipython",
    "version": 3
   },
   "file_extension": ".py",
   "mimetype": "text/x-python",
   "name": "python",
   "nbconvert_exporter": "python",
   "pygments_lexer": "ipython3",
   "version": "3.6.5"
  }
 },
 "nbformat": 4,
 "nbformat_minor": 2
}
